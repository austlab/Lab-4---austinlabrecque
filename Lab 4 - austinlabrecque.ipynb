{
  "nbformat": 4,
  "nbformat_minor": 0,
  "metadata": {
    "colab": {
      "name": "WEEK 4 ADVANCED SQL AND FILES",
      "provenance": [],
      "include_colab_link": true
    },
    "kernelspec": {
      "name": "python3",
      "display_name": "Python 3"
    }
  },
  "cells": [
    {
      "cell_type": "markdown",
      "metadata": {
        "id": "view-in-github",
        "colab_type": "text"
      },
      "source": [
        "<a href=\"https://colab.research.google.com/github/austlab/Lab-4---austinlabrecque/blob/main/Lab%204%20-%20austinlabrecque.ipynb\" target=\"_parent\"><img src=\"https://colab.research.google.com/assets/colab-badge.svg\" alt=\"Open In Colab\"/></a>"
      ]
    },
    {
      "cell_type": "code",
      "metadata": {
        "id": "P2btKpXsANBX"
      },
      "source": [
        "import sqlite3\n",
        "\n",
        "#Retreive the Connection object, rename the file to match your uploaded DB if necessary.\n",
        "myConnection = sqlite3.connect('social_network.db')\n",
        "\n",
        "#Once we have a Connection object, we can generate a Cursor object, and use that to run our SQL Queries\n",
        "myCursor = myConnection.cursor()\n",
        "\n",
        "#The Primary Key column has been provided for you,\n",
        "#Replace '#!...' with the remaining column names, datatypes, and foreign key declarations.\n",
        "#Use the Lecture notes and the previous lab if you are unsure.\n",
        "createRelationshipsTable = \"\"\"CREATE TABLE IF NOT EXISTS relationships (\n",
        "                          id integer PRIMARY KEY NOT NULL,\n",
        "                          user_id integer NOT NULL,\n",
        "                          friend_id integer NOT NULL,\n",
        "                          FOREIGN KEY (user_id) REFERENCES people (id),\n",
        "                          FOREIGN KEY (friend_id) REFERENCES people (id)\n",
        "                        );\"\"\"\n",
        "\n",
        "#Once again, we will execute the query, persist the changes, and close our connection.\n",
        "myCursor.execute(createRelationshipsTable)\n",
        "myConnection.commit()\n",
        "myConnection.close()"
      ],
      "execution_count": 9,
      "outputs": []
    },
    {
      "cell_type": "code",
      "metadata": {
        "id": "XL7ho2tJCTBG"
      },
      "source": [
        "import sqlite3\n",
        "from datetime import datetime #For generating dates and times\n",
        "from random import randrange #For generating random numbers within a range\n",
        "\n",
        "#Retreive the Connection object, rename the file to match your uploaded DB if necessary.\n",
        "myConnection = sqlite3.connect('social_network.db')\n",
        "\n",
        "#Once we have a Connection object, we can generate a Cursor object, and use that to run our SQL Queries\n",
        "myCursor = myConnection.cursor()\n",
        "\n",
        "#Complete the below query\n",
        "query =  \"\"\"INSERT INTO relationships(user_id, friend_id)\n",
        "            VALUES (?, ?);\"\"\"\n",
        "\n",
        "for _ in range(1000):\n",
        "  #Populate the arguments that will be used in the query\n",
        "  user_id = randrange(1,1001)\n",
        "  friend_id = user_id\n",
        "  while friend_id == user_id:\n",
        "    friend_id = randrange(1,1001)\n",
        "\n",
        "  args = (user_id, friend_id)\n",
        "  #Execute the query\n",
        "  myCursor.execute(query, args)\n",
        "\n",
        "#Commit your changes and close the connection.\n",
        "myConnection.commit()\n",
        "myConnection.close()\n"
      ],
      "execution_count": 10,
      "outputs": []
    },
    {
      "cell_type": "code",
      "metadata": {
        "id": "0OvhhCMKGkU3"
      },
      "source": [
        "import sqlite3\n",
        "import csv\n",
        "\n",
        "#Retreive the Connection object, rename the file to match your uploaded DB if necessary.\n",
        "myConnection = sqlite3.connect('social_network.db')\n",
        "\n",
        "#Once we have a Connection object, we can generate a Cursor object, and use that to run our SQL Queries\n",
        "myCursor = myConnection.cursor()\n",
        "\n",
        "#Uncomment the below line after you have determined what the correct mode will be for your file pointer.\n",
        "#fp = open('report.txt', mode='')\n",
        "\n",
        "#Complete the below query\n",
        "query =  \"\"\"SELECT people.name, COUNT(*) FROM relationships\n",
        "            LEFT JOIN people ON relationships.user_id = people.id\n",
        "            GROUP BY relationships.user_id;\"\"\"\n",
        "\n",
        "myCursor.execute(query)\n",
        "results = myCursor.fetchall()\n",
        "\n",
        "myConnection.close()\n",
        "\n",
        "#Uncomment the below line after you have determined what the correct mode will be for your file pointer.\n",
        "fp = open('report.txt', mode='w')\n",
        "fields = ['Name, Friends']\n",
        "\n",
        "for result in results:\n",
        "  #You will want to write the results to the file pointer here.\n",
        "  #Use the newline character \\n to create a line break in each write() statement.\n",
        "  #Use print() statements as sanity checks if you are unsure of the integrity of your data.\n",
        "  fp.write(str(result)+\"\\n\")\n",
        "  \n",
        "  \n",
        "fp.close()\n",
        "\n",
        "#Don't forget to close the file pointer after you have finished!"
      ],
      "execution_count": 19,
      "outputs": []
    }
  ]
}